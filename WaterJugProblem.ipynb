{
  "nbformat": 4,
  "nbformat_minor": 0,
  "metadata": {
    "colab": {
      "provenance": [],
      "toc_visible": true
    },
    "kernelspec": {
      "name": "python3",
      "display_name": "Python 3"
    },
    "language_info": {
      "name": "python"
    }
  },
  "cells": [
    {
      "cell_type": "markdown",
      "source": [
        "# **DFS**"
      ],
      "metadata": {
        "id": "pBy4IMuGfYHK"
      }
    },
    {
      "cell_type": "code",
      "source": [
        "def water_jug_dfs():\n",
        "    start = (0, 0)\n",
        "    stack = [[start]]\n",
        "    visited = set()\n",
        "\n",
        "    while stack:\n",
        "        path = stack.pop()\n",
        "        state = path[-1]\n",
        "\n",
        "        if state[0] == GOAL or state[1] == GOAL:\n",
        "            return path\n",
        "\n",
        "        if state in visited:\n",
        "            continue\n",
        "        visited.add(state)\n",
        "\n",
        "        x, y = state\n",
        "\n",
        "        next_states = [\n",
        "            (JUG1, y),\n",
        "            (x, JUG2),\n",
        "            (0, y),\n",
        "            (x, 0),\n",
        "            (x - min(x, JUG2 - y), y + min(x, JUG2 - y)),\n",
        "            (x + min(y, JUG1 - x), y - min(y, JUG1 - x))\n",
        "        ]\n",
        "\n",
        "        for nxt in next_states:\n",
        "            if nxt not in visited:\n",
        "                new_path = list(path)\n",
        "                new_path.append(nxt)\n",
        "                stack.append(new_path)\n",
        "    return None\n",
        "\n",
        "solution = water_jug_dfs()\n",
        "print(\"DFS Solution path:\")\n",
        "for step in solution:\n",
        "    print(step)\n"
      ],
      "metadata": {
        "colab": {
          "base_uri": "https://localhost:8080/"
        },
        "id": "ZSPUzRJlf27n",
        "outputId": "427c617e-9889-489a-c7ba-a32077bcf289"
      },
      "execution_count": 2,
      "outputs": [
        {
          "output_type": "stream",
          "name": "stdout",
          "text": [
            "DFS Solution path:\n",
            "(0, 0)\n",
            "(0, 3)\n",
            "(3, 0)\n",
            "(3, 3)\n",
            "(4, 2)\n",
            "(4, 0)\n",
            "(1, 3)\n"
          ]
        }
      ]
    },
    {
      "cell_type": "markdown",
      "source": [
        "# **BFS**"
      ],
      "metadata": {
        "id": "asoIMy2qfvPD"
      }
    },
    {
      "cell_type": "code",
      "source": [
        "from collections import deque\n",
        "\n",
        "JUG1 = 4\n",
        "JUG2 = 3\n",
        "GOAL = 1\n",
        "\n",
        "def water_jug_bfs():\n",
        "    start = (0, 0)\n",
        "    visited = set()\n",
        "    queue = deque([[start]])\n",
        "\n",
        "    while queue:\n",
        "        path = queue.popleft()\n",
        "        state = path[-1]\n",
        "\n",
        "        if state[0] == GOAL or state[1] == GOAL:\n",
        "            return path\n",
        "\n",
        "        if state in visited:\n",
        "            continue\n",
        "        visited.add(state)\n",
        "\n",
        "        x, y = state\n",
        "\n",
        "        next_states = [\n",
        "            (JUG1, y),\n",
        "            (x, JUG2),\n",
        "            (0, y),\n",
        "            (x, 0),\n",
        "            (x - min(x, JUG2 - y), y + min(x, JUG2 - y)),\n",
        "            (x + min(y, JUG1 - x), y - min(y, JUG1 - x))\n",
        "        ]\n",
        "\n",
        "        for nxt in next_states:\n",
        "            if nxt not in visited:\n",
        "                new_path = list(path)\n",
        "                new_path.append(nxt)\n",
        "                queue.append(new_path)\n",
        "    return None\n",
        "\n",
        "solution = water_jug_bfs()\n",
        "print(\"BFS Solution path:\")\n",
        "for step in solution:\n",
        "    print(step)"
      ],
      "metadata": {
        "colab": {
          "base_uri": "https://localhost:8080/"
        },
        "id": "wzUO01LdgVAj",
        "outputId": "4c12e73c-35f9-4d84-f41f-9f51954a422c"
      },
      "execution_count": 1,
      "outputs": [
        {
          "output_type": "stream",
          "name": "stdout",
          "text": [
            "BFS Solution path:\n",
            "(0, 0)\n",
            "(4, 0)\n",
            "(1, 3)\n"
          ]
        }
      ]
    },
    {
      "cell_type": "markdown",
      "source": [
        "# A*\n"
      ],
      "metadata": {
        "id": "G8OxhT4WfcqH"
      }
    },
    {
      "cell_type": "code",
      "source": [
        "import heapq\n",
        "\n",
        "def heuristic(state):\n",
        "    x, y = state\n",
        "    return min(abs(x - GOAL), abs(y - GOAL))\n",
        "\n",
        "def a_star_water_jug():\n",
        "    start = (0, 0)\n",
        "    open_list = []\n",
        "    heapq.heappush(open_list, (heuristic(start), 0, [start]))\n",
        "    visited = {}\n",
        "\n",
        "    while open_list:\n",
        "        f, g, path = heapq.heappop(open_list)\n",
        "        state = path[-1]\n",
        "\n",
        "        if state[0] == GOAL or state[1] == GOAL:\n",
        "            return path\n",
        "\n",
        "        if state in visited and visited[state] <= g:\n",
        "            continue\n",
        "        visited[state] = g\n",
        "\n",
        "        x, y = state\n",
        "        next_states = [\n",
        "            (JUG1, y),\n",
        "            (x, JUG2),\n",
        "            (0, y),\n",
        "            (x, 0),\n",
        "            (x - min(x, JUG2 - y), y + min(x, JUG2 - y)),\n",
        "            (x + min(y, JUG1 - x), y - min(y, JUG1 - x))\n",
        "        ]\n",
        "\n",
        "        for nxt in next_states:\n",
        "            if nxt not in visited or g + 1 < visited.get(nxt, float('inf')):\n",
        "                new_path = list(path)\n",
        "                new_path.append(nxt)\n",
        "                new_g = g + 1\n",
        "                new_f = new_g + heuristic(nxt)\n",
        "                heapq.heappush(open_list, (new_f, new_g, new_path))\n",
        "\n",
        "solution = a_star_water_jug()\n",
        "print(\"A* Solution path:\")\n",
        "for step in solution:\n",
        "    print(step)"
      ],
      "metadata": {
        "colab": {
          "base_uri": "https://localhost:8080/"
        },
        "id": "jJ_2C0FIgsLN",
        "outputId": "fe6d0133-4134-4693-d7be-02ef3ec973a9"
      },
      "execution_count": 3,
      "outputs": [
        {
          "output_type": "stream",
          "name": "stdout",
          "text": [
            "A* Solution path:\n",
            "(0, 0)\n",
            "(4, 0)\n",
            "(1, 3)\n"
          ]
        }
      ]
    },
    {
      "cell_type": "markdown",
      "source": [
        "# **ANSWERS**"
      ],
      "metadata": {
        "id": "SBFuBwahgwHR"
      }
    },
    {
      "cell_type": "markdown",
      "source": [
        "3. Which algorithm is more efficient in terms of time and memory?\n",
        "\n",
        "DFS →\n",
        "\n",
        "Time: Can be fast if the goal is lucky and found quickly, but can also waste time exploring deep irrelevant paths.\n",
        "\n",
        "Memory: Very memory-efficient (only stores current path).\n",
        "\n",
        "BFS →\n",
        "\n",
        "Time: Always finds the shortest path but may explore many unnecessary states.\n",
        "\n",
        "Memory: Uses a lot of memory since it stores all frontier nodes level by level.\n",
        "\n",
        "A* →\n",
        "\n",
        "Time: More efficient than BFS if the heuristic is good (directs the search toward the goal).\n",
        "\n",
        "Memory: Uses more memory than DFS (priority queue, visited costs), but often less than BFS because it avoids exploring unnecessary states."
      ],
      "metadata": {
        "id": "PkRIbi-1hvJT"
      }
    },
    {
      "cell_type": "markdown",
      "source": [
        "2. Which algorithm gives the shortest path? Why?\n",
        "\n",
        "Shortest Path → BFS & A*\n",
        "Both return the optimal solution (3 steps).\n",
        "\n",
        "Why?\n",
        "\n",
        "BFS guarantees the shortest path because it explores nodes level by level (unweighted graph).\n",
        "\n",
        "A* finds the shortest path because the heuristic guides the search towards the goal while still considering path cost.\n",
        "\n",
        "DFS doesn’t guarantee the shortest path — it depends on the order of state expansion."
      ],
      "metadata": {
        "id": "10rR_zrChlL1"
      }
    },
    {
      "cell_type": "markdown",
      "source": [
        "1. Compare BFS, DFS, and A* solution paths\n",
        "\n",
        "BFS (Breadth-First Search)\n",
        "\n",
        "(0, 0) → (4, 0) → (1, 3)\n",
        "\n",
        "\n",
        "BFS explores level by level, so it finds the shortest sequence of steps to the goal.\n",
        "\n",
        "DFS (Depth-First Search)\n",
        "\n",
        "(0, 0) → (0, 3) → (3, 0) → (3, 3) → (4, 2) → (4, 0) → (1, 3)\n",
        "\n",
        "\n",
        "DFS dives deep before backtracking, so it can reach the goal but usually with longer, non-optimal paths.\n",
        "\n",
        "A* (with heuristic = distance to goal)\n",
        "\n",
        "(0, 0) → (4, 0) → (1, 3)\n",
        "\n",
        "\n",
        "A* uses both cost (g) and heuristic (h), so it also finds the shortest path, just like BFS, but does it in a more targeted way thanks to the heuristic."
      ],
      "metadata": {
        "id": "FO9mnQxMg4gt"
      }
    }
  ]
}