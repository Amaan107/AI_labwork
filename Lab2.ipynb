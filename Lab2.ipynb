{
  "nbformat": 4,
  "nbformat_minor": 0,
  "metadata": {
    "colab": {
      "provenance": []
    },
    "kernelspec": {
      "name": "python3",
      "display_name": "Python 3"
    },
    "language_info": {
      "name": "python"
    }
  },
  "cells": [
    {
      "cell_type": "markdown",
      "source": [
        "# **1.Lists**"
      ],
      "metadata": {
        "id": "GLojpMlT48L3"
      }
    },
    {
      "cell_type": "code",
      "source": [
        "!pip install numpy"
      ],
      "metadata": {
        "colab": {
          "base_uri": "https://localhost:8080/"
        },
        "id": "NiZENaBbBemM",
        "outputId": "44edd704-fc33-426c-bec5-1ec8fbd795ee"
      },
      "execution_count": 5,
      "outputs": [
        {
          "output_type": "stream",
          "name": "stdout",
          "text": [
            "Requirement already satisfied: numpy in /usr/local/lib/python3.12/dist-packages (2.0.2)\n"
          ]
        }
      ]
    },
    {
      "cell_type": "code",
      "source": [
        "#create a list of 10 integers\n",
        "a=[1,2,3,4,5,6,7,8,9,10]\n",
        "print('original_list',a)\n",
        "\n",
        "#sum,max,and min\n",
        "print('Sum',sum(a))\n",
        "print('Max',max(a))\n",
        "print('Min',min(a))\n",
        "\n",
        "#add or remove element\n",
        "a.\n"
      ],
      "metadata": {
        "colab": {
          "base_uri": "https://localhost:8080/",
          "height": 106
        },
        "id": "J2hjK4l-CVGq",
        "outputId": "92d21c03-8058-4acf-80b8-213c7e9b646a"
      },
      "execution_count": 24,
      "outputs": [
        {
          "output_type": "error",
          "ename": "SyntaxError",
          "evalue": "incomplete input (ipython-input-15520272.py, line 17)",
          "traceback": [
            "\u001b[0;36m  File \u001b[0;32m\"/tmp/ipython-input-15520272.py\"\u001b[0;36m, line \u001b[0;32m17\u001b[0m\n\u001b[0;31m    print('Descending',sorted(a,reverse=True)\u001b[0m\n\u001b[0m                                             ^\u001b[0m\n\u001b[0;31mSyntaxError\u001b[0m\u001b[0;31m:\u001b[0m incomplete input\n"
          ]
        }
      ]
    },
    {
      "cell_type": "markdown",
      "source": [
        "# 2.**Tuples**"
      ],
      "metadata": {
        "id": "w-t52PBZ5WVX"
      }
    },
    {
      "cell_type": "code",
      "source": [
        "#create a tuple\n",
        "fruit = ('apple','banana','cherry','mango','grape')\n",
        "print('Second element:',fruit[1])\n",
        "print('Last element',fruit[-1])\n",
        "\n",
        "#tuple is immutable because modifying it will give an error\n",
        "#convert tuple into list"
      ],
      "metadata": {
        "colab": {
          "base_uri": "https://localhost:8080/"
        },
        "id": "puQcbpreGF-9",
        "outputId": "9a3545c5-7af8-484d-844a-54722f3d309b"
      },
      "execution_count": 32,
      "outputs": [
        {
          "output_type": "stream",
          "name": "stdout",
          "text": [
            "Second element: banana\n",
            "Last element grape\n"
          ]
        }
      ]
    },
    {
      "cell_type": "markdown",
      "source": [
        "# 3.**Sets**"
      ],
      "metadata": {
        "id": "_rGjo4XQ5d2q"
      }
    },
    {
      "cell_type": "code",
      "source": [
        "#create set\n",
        "set_a={1,2,3,4,5}\n",
        "set_b={4,5,6,7,8}\n",
        "\n",
        "\n",
        "#union\n",
        "print('Union',set_a.union(set_b))\n",
        "\n",
        "#intersection\n",
        "print('Intersection',set_a.intersection(set_b))"
      ],
      "metadata": {
        "id": "CWlKJGspJErc"
      },
      "execution_count": null,
      "outputs": []
    },
    {
      "cell_type": "markdown",
      "source": [
        "# 4.**Dictionaries**"
      ],
      "metadata": {
        "id": "VvQNO9XL5woc"
      }
    },
    {
      "cell_type": "code",
      "source": [
        "#create dictionary\n",
        "students ={'ali':85,'sara':90,'ahmad':82}\n",
        "print('students:',students)"
      ],
      "metadata": {
        "colab": {
          "base_uri": "https://localhost:8080/"
        },
        "id": "dufghyuuKK1j",
        "outputId": "ce769869-84bf-48c2-a638-11c06123b13d"
      },
      "execution_count": 33,
      "outputs": [
        {
          "output_type": "stream",
          "name": "stdout",
          "text": [
            "students: {'ali': 85, 'sara': 90, 'ahmad': 82}\n"
          ]
        }
      ]
    },
    {
      "cell_type": "markdown",
      "source": [
        "# 5.**Numpy**"
      ],
      "metadata": {
        "id": "NlfyzWBd6RWI"
      }
    },
    {
      "cell_type": "markdown",
      "source": [
        "# 6.**Matplotlib**"
      ],
      "metadata": {
        "id": "jBm1Gcfh6V1y"
      }
    }
  ]
}