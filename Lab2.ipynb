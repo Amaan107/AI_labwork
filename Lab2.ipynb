{
  "nbformat": 4,
  "nbformat_minor": 0,
  "metadata": {
    "colab": {
      "provenance": []
    },
    "kernelspec": {
      "name": "python3",
      "display_name": "Python 3"
    },
    "language_info": {
      "name": "python"
    }
  },
  "cells": [
    {
      "cell_type": "code",
      "source": [
        "#creating list of 10 integers\n",
        "a=[1,3,5,7,9,11,13,15,17]\n",
        "print('original list:',a);\n",
        "\n",
        "#sum ,max,min\n",
        "print('sum:',sum(a))\n",
        "print('max:',max(a))\n",
        "print('min:',min(a))\n",
        "\n",
        "#add or remove element\n",
        "a.append(24);\n",
        "a.remove(1);\n",
        "print('updated list:',a)\n",
        "\n",
        "#ascending or descending list\n",
        "a.sort()\n",
        "print('ascending list:',a)\n",
        "a.sort(reverse=True)\n",
        "print('descending list:',a)\n",
        "\n"
      ],
      "metadata": {
        "colab": {
          "base_uri": "https://localhost:8080/"
        },
        "id": "rs36Z-aeNpoq",
        "outputId": "5ae40742-4d3f-44e0-f86d-9171453c76d5"
      },
      "execution_count": 42,
      "outputs": [
        {
          "output_type": "stream",
          "name": "stdout",
          "text": [
            "original list: [1, 3, 5, 7, 9, 11, 13, 15, 17]\n",
            "sum: 81\n",
            "max: 17\n",
            "min: 1\n",
            "updated list: [3, 5, 7, 9, 11, 13, 15, 17, 24]\n",
            "ascending list: [3, 5, 7, 9, 11, 13, 15, 17, 24]\n",
            "descending list: [24, 17, 15, 13, 11, 9, 7, 5, 3]\n"
          ]
        }
      ]
    },
    {
      "cell_type": "markdown",
      "source": [
        "# **1.Lists**"
      ],
      "metadata": {
        "id": "GLojpMlT48L3"
      }
    },
    {
      "cell_type": "code",
      "source": [
        "!pip install numpy"
      ],
      "metadata": {
        "colab": {
          "base_uri": "https://localhost:8080/"
        },
        "id": "NiZENaBbBemM",
        "outputId": "44edd704-fc33-426c-bec5-1ec8fbd795ee"
      },
      "execution_count": 5,
      "outputs": [
        {
          "output_type": "stream",
          "name": "stdout",
          "text": [
            "Requirement already satisfied: numpy in /usr/local/lib/python3.12/dist-packages (2.0.2)\n"
          ]
        }
      ]
    },
    {
      "cell_type": "markdown",
      "source": [
        "# 2.**Tuples**"
      ],
      "metadata": {
        "id": "w-t52PBZ5WVX"
      }
    },
    {
      "cell_type": "code",
      "source": [
        "#create a tuple\n",
        "fruit = ('apple','banana','cherry','mango','grape')\n",
        "print('Second element:',fruit[1])\n",
        "print('Last element',fruit[-1])\n",
        "\n",
        "#tuple is immutable because modifying it will give an error\n",
        "#convert tuple into list"
      ],
      "metadata": {
        "colab": {
          "base_uri": "https://localhost:8080/"
        },
        "id": "puQcbpreGF-9",
        "outputId": "9a3545c5-7af8-484d-844a-54722f3d309b"
      },
      "execution_count": 32,
      "outputs": [
        {
          "output_type": "stream",
          "name": "stdout",
          "text": [
            "Second element: banana\n",
            "Last element grape\n"
          ]
        }
      ]
    },
    {
      "cell_type": "markdown",
      "source": [
        "# 3.**Sets**"
      ],
      "metadata": {
        "id": "_rGjo4XQ5d2q"
      }
    },
    {
      "cell_type": "code",
      "source": [
        "#create set\n",
        "set_a={1,2,3,4,5}\n",
        "set_b={4,5,6,7,8}\n",
        "\n",
        "\n",
        "#union\n",
        "print('Union',set_a.union(set_b))\n",
        "\n",
        "#intersection\n",
        "print('Intersection',set_a.intersection(set_b))"
      ],
      "metadata": {
        "id": "CWlKJGspJErc"
      },
      "execution_count": null,
      "outputs": []
    },
    {
      "cell_type": "markdown",
      "source": [
        "# 4.**Dictionaries**"
      ],
      "metadata": {
        "id": "VvQNO9XL5woc"
      }
    },
    {
      "cell_type": "code",
      "source": [
        "#create dictionary\n",
        "students ={'ali':85,'sara':90,'ahmad':82}\n",
        "print('students:',students)"
      ],
      "metadata": {
        "colab": {
          "base_uri": "https://localhost:8080/"
        },
        "id": "dufghyuuKK1j",
        "outputId": "ce769869-84bf-48c2-a638-11c06123b13d"
      },
      "execution_count": 33,
      "outputs": [
        {
          "output_type": "stream",
          "name": "stdout",
          "text": [
            "students: {'ali': 85, 'sara': 90, 'ahmad': 82}\n"
          ]
        }
      ]
    },
    {
      "cell_type": "markdown",
      "source": [
        "# 5.**Numpy**"
      ],
      "metadata": {
        "id": "NlfyzWBd6RWI"
      }
    },
    {
      "cell_type": "markdown",
      "source": [
        "# 6.**Matplotlib**"
      ],
      "metadata": {
        "id": "jBm1Gcfh6V1y"
      }
    }
  ]
}