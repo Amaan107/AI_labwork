{
  "nbformat": 4,
  "nbformat_minor": 0,
  "metadata": {
    "colab": {
      "provenance": [],
      "toc_visible": true
    },
    "kernelspec": {
      "name": "python3",
      "display_name": "Python 3"
    },
    "language_info": {
      "name": "python"
    }
  },
  "cells": [
    {
      "cell_type": "markdown",
      "source": [
        "# NAME: AMANULLAH **KHAN**"
      ],
      "metadata": {
        "id": "3j0sixrxurRl"
      }
    },
    {
      "cell_type": "markdown",
      "source": [
        "# **TASK#1**"
      ],
      "metadata": {
        "id": "QS8SjpSRw59K"
      }
    },
    {
      "cell_type": "code",
      "source": [
        "# bfs and  dfs on graph\n",
        "from collections import deque\n",
        "\n",
        "graph = {\n",
        "    'A': ['B', 'C'],\n",
        "    'B': ['D', 'E'],\n",
        "    'C': ['F'],\n",
        "    'D': [],\n",
        "    'E': [],\n",
        "    'F': [],\n",
        "}\n",
        "\n",
        "def bfs(start):\n",
        "  visited = []\n",
        "  q = deque([start])\n",
        "  seen = {start}  # Use a set for efficient lookups\n",
        "  while q:\n",
        "    node = q.popleft()\n",
        "    visited.append(node)\n",
        "    for neighbour in graph.get(node, []): # Use .get() to handle nodes with no neighbors\n",
        "      if neighbour not in seen:\n",
        "        seen.add(neighbour)\n",
        "        q.append(neighbour)\n",
        "  return visited\n",
        "\n",
        "def dfs(start):\n",
        "    visited = []\n",
        "    seen = set()\n",
        "    def dfs_rec(n):\n",
        "      seen.add(n)\n",
        "      visited.append(n)\n",
        "      for neighbour in graph.get(n, []): # Use .get() to handle nodes with no neighbors\n",
        "        if neighbour not in seen:\n",
        "          dfs_rec(neighbour)\n",
        "    dfs_rec(start)\n",
        "    return visited\n",
        "\n",
        "print(\"BFS from A:\", bfs('A'))\n",
        "print(\"DFS from A:\", dfs('A'))"
      ],
      "metadata": {
        "colab": {
          "base_uri": "https://localhost:8080/"
        },
        "id": "Hs2ZVROQxOWr",
        "outputId": "af687bf6-4cc8-4f76-f348-9ac00c32bf3b"
      },
      "execution_count": 6,
      "outputs": [
        {
          "output_type": "stream",
          "name": "stdout",
          "text": [
            "BFS from A: ['A', 'B', 'C', 'D', 'E', 'F']\n",
            "DFS from A: ['A', 'B', 'D', 'E', 'C', 'F']\n"
          ]
        }
      ]
    },
    {
      "cell_type": "markdown",
      "source": [
        "# **TASK2**"
      ],
      "metadata": {
        "id": "ZFGtOwVK3Ucp"
      }
    },
    {
      "cell_type": "code",
      "source": [
        "# Task 2: Student dictionary operations\n",
        "# Paste this into one code cell and run\n",
        "\n",
        "student = {\n",
        "    \"name\": \"Amanullah Khan\",\n",
        "    \"age\": 21,\n",
        "    \"roll_number\": \"BSSE-2025-101\",\n",
        "    \"grade\": \"B\"\n",
        "}\n",
        "\n",
        "# 1. Print all keys and values\n",
        "print(\"All items:\")\n",
        "for k, v in student.items():\n",
        "    print(f\"  {k}: {v}\")\n",
        "\n",
        "# 2. Update the grade of the student\n",
        "student[\"grade\"] = \"A\"\n",
        "print(\"\\nAfter updating grade:\")\n",
        "print(student)\n",
        "\n",
        "# 3. Add a new key email with a value\n",
        "student[\"email\"] = \"aman@example.com\"\n",
        "print(\"\\nAfter adding email:\")\n",
        "print(student)\n",
        "\n",
        "# 4. Delete the roll_number key\n",
        "del student[\"roll_number\"]\n",
        "print(\"\\nAfter deleting roll_number:\")\n",
        "print(student)\n"
      ],
      "metadata": {
        "colab": {
          "base_uri": "https://localhost:8080/"
        },
        "id": "1sWvcPcn3Vku",
        "outputId": "817154fc-712e-47e2-b8b5-3a1a8f0e2a2c"
      },
      "execution_count": 7,
      "outputs": [
        {
          "output_type": "stream",
          "name": "stdout",
          "text": [
            "All items:\n",
            "  name: Amanullah Khan\n",
            "  age: 21\n",
            "  roll_number: BSSE-2025-101\n",
            "  grade: B\n",
            "\n",
            "After updating grade:\n",
            "{'name': 'Amanullah Khan', 'age': 21, 'roll_number': 'BSSE-2025-101', 'grade': 'A'}\n",
            "\n",
            "After adding email:\n",
            "{'name': 'Amanullah Khan', 'age': 21, 'roll_number': 'BSSE-2025-101', 'grade': 'A', 'email': 'aman@example.com'}\n",
            "\n",
            "After deleting roll_number:\n",
            "{'name': 'Amanullah Khan', 'age': 21, 'grade': 'A', 'email': 'aman@example.com'}\n"
          ]
        }
      ]
    },
    {
      "cell_type": "markdown",
      "source": [
        "# TASK#**3**"
      ],
      "metadata": {
        "id": "B10kt5V_4vJB"
      }
    },
    {
      "cell_type": "code",
      "source": [
        "# Task 3: Simple line plot using matplotlib\n",
        "# In Colab you may need to run: !pip install matplotlib  (usually preinstalled)\n",
        "\n",
        "import matplotlib.pyplot as plt\n",
        "\n",
        "X = [1, 2, 3, 4, 5]\n",
        "Y = [2, 4, 6, 8, 10]\n",
        "\n",
        "plt.figure(figsize=(8,5))\n",
        "plt.plot(X, Y)                 # simple line plot\n",
        "plt.title(\"Simple Line Plot\")\n",
        "plt.xlabel(\"X-axis\")\n",
        "plt.ylabel(\"Y-axis\")\n",
        "plt.grid(True)\n",
        "plt.show()\n"
      ],
      "metadata": {
        "colab": {
          "base_uri": "https://localhost:8080/",
          "height": 449
        },
        "id": "8WzjfLpN40-g",
        "outputId": "c7c2694c-18a2-400c-c51e-54d4e6514656"
      },
      "execution_count": 8,
      "outputs": [
        {
          "output_type": "display_data",
          "data": {
            "text/plain": [
              "<Figure size 800x500 with 1 Axes>"
            ],
            "image/png": "[encoded data removed]"
          },
          "metadata": {}
        }
      ]
    },
    {
      "cell_type": "markdown",
      "source": [
        "# *Task #5*"
      ],
      "metadata": {
        "id": "7PHNC-F746T6"
      }
    },
    {
      "cell_type": "code",
      "source": [
        "import time, tracemalloc\n",
        "from collections import deque\n",
        "\n",
        "def water_moves(state, cap1=4, cap2=3):\n",
        "    x, y = state\n",
        "    moves = []\n",
        "    # fill jug1\n",
        "    moves.append((cap1, y))\n",
        "    # fill jug2\n",
        "    moves.append((x, cap2))\n",
        "    # empty jug1\n",
        "    moves.append((0, y))\n",
        "    # empty jug2\n",
        "    moves.append((x, 0))\n",
        "    # pour jug1 -> jug2\n",
        "    transfer = min(x, cap2 - y)\n",
        "    moves.append((x - transfer, y + transfer))\n",
        "    # pour jug2 -> jug1\n",
        "    transfer = min(y, cap1 - x)\n",
        "    moves.append((x + transfer, y - transfer))\n",
        "    # return unique valid moves\n",
        "    return list(set(moves))\n",
        "\n",
        "def bfs_water(start, goal):\n",
        "    t0 = time.time()\n",
        "    tracemalloc.start()\n",
        "    q = deque([(start, [start])])\n",
        "    seen = {start}\n",
        "    nodes = 0\n",
        "    while q:\n",
        "        state, path = q.popleft()\n",
        "        nodes += 1\n",
        "        if goal in state:\n",
        "            mem_current, mem_peak = tracemalloc.get_traced_memory()\n",
        "            tracemalloc.stop()\n",
        "            return {\"path\": path, \"steps\": len(path)-1, \"nodes_expanded\": nodes,\n",
        "                    \"time\": time.time()-t0, \"memory_bytes\": mem_peak}\n",
        "        for mv in water_moves(state):\n",
        "            if mv not in seen:\n",
        "                seen.add(mv)\n",
        "                q.append((mv, path + [mv]))\n",
        "    tracemalloc.stop()\n",
        "    return None\n",
        "\n",
        "res = bfs_water((0,0), 2)  # example: find any state with 2 liters in any jug\n",
        "print(res)\n"
      ],
      "metadata": {
        "colab": {
          "base_uri": "https://localhost:8080/"
        },
        "id": "9f7zywQ05ARK",
        "outputId": "ebae5483-eddb-489d-d98c-1d405924b2a4"
      },
      "execution_count": 9,
      "outputs": [
        {
          "output_type": "stream",
          "name": "stdout",
          "text": [
            "{'path': [(0, 0), (0, 3), (3, 0), (3, 3), (4, 2)], 'steps': 4, 'nodes_expanded': 10, 'time': 0.0004210472106933594, 'memory_bytes': 2976}\n"
          ]
        }
      ]
    },
    {
      "cell_type": "markdown",
      "source": [
        "# TASK **6**"
      ],
      "metadata": {
        "id": "bUzTNaqA5M5I"
      }
    },
    {
      "cell_type": "code",
      "source": [
        "# ======================================================\n",
        "# TASK #6 — A* Search on a Maze\n",
        "# COMSATS University Islamabad - Abbottabad Campus\n",
        "# Course: Artificial Intelligence\n",
        "# Student: Amanullah Khan | Roll No: BSSE-2025-101\n",
        "# ======================================================\n",
        "\n",
        "import heapq\n",
        "import matplotlib.pyplot as plt\n",
        "\n",
        "# 1️⃣ Define the maze\n",
        "# 0 = empty path\n",
        "# 1 = wall\n",
        "# A = start (row=0,col=0)\n",
        "# Y = goal  (row=4,col=5)\n",
        "maze = [\n",
        "    [0, 1, 0, 0, 0, 0],\n",
        "    [0, 1, 0, 1, 1, 0],\n",
        "    [0, 0, 0, 1, 0, 0],\n",
        "    [1, 1, 0, 0, 0, 1],\n",
        "    [0, 0, 0, 1, 0, 0]\n",
        "]\n",
        "\n",
        "start = (0, 0)  # A\n",
        "goal = (4, 5)   # Y\n",
        "rows, cols = len(maze), len(maze[0])\n",
        "\n",
        "# 2️⃣ Define heuristic (Manhattan distance)\n",
        "def heuristic(a, b):\n",
        "    (x1, y1), (x2, y2) = a, b\n",
        "    return abs(x1 - x2) + abs(y1 - y2)\n",
        "\n",
        "# 3️⃣ Get valid neighbors (4 directions)\n",
        "def neighbors(node):\n",
        "    x, y = node\n",
        "    moves = [(1,0), (-1,0), (0,1), (0,-1)]\n",
        "    result = []\n",
        "    for dx, dy in moves:\n",
        "        nx, ny = x + dx, y + dy\n",
        "        if 0 <= nx < rows and 0 <= ny < cols and maze[nx][ny] == 0:\n",
        "            result.append((nx, ny))\n",
        "    return result\n",
        "\n",
        "# 4️⃣ Implement A* algorithm\n",
        "def a_star(start, goal):\n",
        "    open_list = []\n",
        "    heapq.heappush(open_list, (0 + heuristic(start, goal), 0, start, [start]))\n",
        "    visited = set()\n",
        "\n",
        "    while open_list:\n",
        "        f, g, node, path = heapq.heappop(open_list)\n",
        "        if node == goal:\n",
        "            return path\n",
        "        if node in visited:\n",
        "            continue\n",
        "        visited.add(node)\n",
        "\n",
        "        for n in neighbors(node):\n",
        "            if n not in visited:\n",
        "                new_g = g + 1\n",
        "                new_f = new_g + heuristic(n, goal)\n",
        "                heapq.heappush(open_list, (new_f, new_g, n, path + [n]))\n",
        "    return None\n",
        "\n",
        "# 5️⃣ Run A* and display result\n",
        "path = a_star(start, goal)\n",
        "print(\"A* Path found:\" if path else \"No path found!\")\n",
        "print(path)\n",
        "\n",
        "# 6️⃣ Visualize the maze and path\n",
        "def show_maze(maze, path):\n",
        "    plt.figure(figsize=(6,5))\n",
        "    maze_display = [[1 if cell==1 else 0 for cell in row] for row in maze]\n",
        "    for (x, y) in path:\n",
        "        maze_display[x][y] = 0.5  # mark path as gray\n",
        "    plt.imshow(maze_display, cmap=\"Blues\")\n",
        "    plt.title(\"A* Search Path (A to Y)\")\n",
        "    plt.xlabel(\"Columns\")\n",
        "    plt.ylabel(\"Rows\")\n",
        "    plt.grid(True)\n",
        "    plt.show()\n",
        "\n",
        "if path:\n",
        "    show_maze(maze, path)\n"
      ],
      "metadata": {
        "colab": {
          "base_uri": "https://localhost:8080/",
          "height": 522
        },
        "id": "0hD4JU485j8J",
        "outputId": "31735449-8909-44cb-ba74-a21b81346273"
      },
      "execution_count": 10,
      "outputs": [
        {
          "output_type": "stream",
          "name": "stdout",
          "text": [
            "A* Path found:\n",
            "[(0, 0), (1, 0), (2, 0), (2, 1), (2, 2), (3, 2), (3, 3), (3, 4), (4, 4), (4, 5)]\n"
          ]
        },
        {
          "output_type": "display_data",
          "data": {
            "text/plain": [
              "<Figure size 600x500 with 1 Axes>"
            ],
            "image/png": "[encoded data removed]"
          },
          "metadata": {}
        }
      ]
    }
  ]
}