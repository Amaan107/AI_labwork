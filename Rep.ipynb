{
  "nbformat": 4,
  "nbformat_minor": 0,
  "metadata": {
    "colab": {
      "provenance": []
    },
    "kernelspec": {
      "name": "python3",
      "display_name": "Python 3"
    },
    "language_info": {
      "name": "python"
    }
  },
  "cells": [
    {
      "cell_type": "markdown",
      "source": [
        "# Import deque for efficient queue **operations**"
      ],
      "metadata": {
        "id": "bQFqCjT1AUe5"
      }
    },
    {
      "cell_type": "code",
      "source": [
        "from collections import deque"
      ],
      "metadata": {
        "id": "n78qDwShAlIt"
      },
      "execution_count": 2,
      "outputs": []
    },
    {
      "cell_type": "code",
      "source": [
        "pakistan_cities ={\n",
        "     'chinyot': ['Faisalabad'],\n",
        "    'Faisalabad': ['chinyot', 'DG khan'],\n",
        "    'DG khan': ['Faisalabad', 'Kasur', 'Quetta'],\n",
        "    'Kasur': ['DG khan', 'Lahore'],\n",
        "    'Quetta': ['DG khan'],\n",
        "    'Lahore': ['Kasur', 'Pindi'],\n",
        "    'Pindi': ['Lahore', 'Abbottabad'],\n",
        "    'Abbottabad': ['Pindi']\n",
        "}\n",
        "\n",
        "def bfs_shortest_path(graph, start, goal):\n",
        "\n",
        "    queue = deque([[start]])\n",
        "\n",
        "\n",
        "    visited = set()\n",
        "\n",
        "    while queue:\n",
        "\n",
        "        path = queue.popleft()\n",
        "        current_city = path[-1]\n",
        "\n",
        "\n",
        "        if current_city == goal:\n",
        "            return path\n",
        "\n",
        "        if current_city not in visited:\n",
        "            visited.add(current_city)\n",
        "\n",
        "\n",
        "            for neighbor in graph.get(current_city, []):\n",
        "\n",
        "                new_path = list(path)\n",
        "                new_path.append(neighbor)\n",
        "                queue.append(new_path)\n",
        "\n",
        "\n",
        "    return None\n",
        "\n",
        "def dfs_path(graph, start, goal, path=None, visited=None):\n",
        "\n",
        "\n",
        "    \"path starts as an empty list to record the route you take.\"\n",
        "    if path is None:\n",
        "        path = []\n",
        "        \"visited starts as an empty set to remember visited places so you don't repeat them.\"\n",
        "    if visited is None:\n",
        "        visited = set()\n",
        "\n",
        "\n",
        "    path.append(start)\n",
        "\n",
        "    visited.add(start)\n",
        "\n",
        "    if start == goal:\n",
        "        return path\n",
        "\n",
        "\n",
        "    for neighbor in graph.get(start, []):\n",
        "        if neighbor not in visited:\n",
        "\n",
        "            result = dfs_path(graph, neighbor, goal, path.copy(), visited.copy())\n",
        "\n",
        "            if result:\n",
        "                return result\n",
        "\n",
        "    return None\n",
        "\n",
        "\n",
        "start_city = \"chinyot\"\n",
        "goal_city = \"Abbottabad\"\n",
        "\n",
        "\n",
        "\n",
        "bfs_result = bfs_shortest_path(pakistan_cities, start_city, goal_city)\n",
        "print(\"BFS Shortest Path from chinyotto Abbottabad:\", bfs_result)\n",
        "\n",
        "dfs_result = dfs_path(pakistan_cities, start_city, goal_city)\n",
        "print(\"DFS Path from chinyotto Abbottabad:\", dfs_result)\n"
      ],
      "metadata": {
        "colab": {
          "base_uri": "https://localhost:8080/"
        },
        "id": "EVDTP1WwA5PN",
        "outputId": "88cc94a8-4b7b-4758-b0c6-f5f93f45953c"
      },
      "execution_count": 8,
      "outputs": [
        {
          "output_type": "stream",
          "name": "stdout",
          "text": [
            "BFS Shortest Path from chinyotto Abbottabad: ['chinyot', 'Faisalabad', 'DG khan', 'Kasur', 'Lahore', 'Pindi', 'Abbottabad']\n",
            "DFS Path from chinyotto Abbottabad: ['chinyot', 'Faisalabad', 'DG khan', 'Kasur', 'Lahore', 'Pindi', 'Abbottabad']\n"
          ]
        }
      ]
    },
    {
      "cell_type": "markdown",
      "source": [
        "# New Section"
      ],
      "metadata": {
        "id": "MnRAj1aiAhGk"
      }
    }
  ]
}